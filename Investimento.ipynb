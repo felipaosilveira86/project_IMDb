{
 "cells": [
  {
   "cell_type": "code",
   "execution_count": 1,
   "metadata": {},
   "outputs": [],
   "source": [
    "import pandas as pd\n",
    "dados = pd.read_csv('base_consolidada.csv', sep=';', header = 0)\n",
    "elenco = pd.read_csv('base_atores.csv', sep=';', header = 0)"
   ]
  },
  {
   "cell_type": "code",
   "execution_count": 2,
   "metadata": {},
   "outputs": [],
   "source": [
    "# Entregar 5 gêneros mais populares\n",
    "# Cada gênero terá 6 entradas\n",
    "# 4 com o idioma mais popular, 1 com o segundo e 1 com o terceiro lugar\n",
    "# Separar para cada filme 3 atores, escolhidos aleatoriamente de uma lista com 50\n",
    "# Escolher um diretor que já tenha trabalhado neste gênero entre os 10 mais populares\n",
    "\n",
    "\n",
    "# criar o condicional do método ranking\n",
    "# consertar o organize data e incorporar os atores \n",
    "# checar se o atores e diretores estão mortos\n",
    "# checar se podia ter apagado meu código mesmo"
   ]
  },
  {
   "cell_type": "code",
   "execution_count": null,
   "metadata": {},
   "outputs": [],
   "source": [
    "def investment(self, itype = 'buy', isubfilter = ['allgenders', 'allages']):\n",
    "    \n",
    "    # limitando meus inputs\n",
    "    if itype not in ['buy', 'produce']:\n",
    "        itype = 'buy'    \n",
    "    if isubfilter[0] not in ['allgenders', 'females', 'males']:\n",
    "        isubfilter[0] = 'allgenders'\n",
    "    if isubfilter[1] not in ['allages','0age', '18age', '30age', '45age']:\n",
    "        isubfilter[1] = 'allages'\n",
    "        \n",
    "    \n",
    "    if itype == 'buy':\n",
    "        topgenre = list(self.ranking('genre', scope='other', metric='votes', subfilter=isubfilter, limit=5).index)\n",
    "        \n",
    "        data = self.scope_df('other')\n",
    "                \n",
    "        print('--------------------- LICENSING RECOMENDATIONS ----------------')\n",
    "        \n",
    "        for genre in topgenre:\n",
    "            genrelist = data[data['genre'] == genre].sort_values(composed_metric, ascending=False)[['title', 'year', 'country', 'language', 'director']].head(6)\n",
    "            print(f'------------- GENRE: {genre}')\n",
    "            print(genrelist)\n",
    "        \n",
    "    if itype == 'produce':\n",
    "        topgenre = list(self.ranking('genre', metric='votes', subfilter=isubfilter, limit=5).index)\n",
    "        toplanguage = list(self.ranking('language', metric='votes', subfilter=isubfilter, limit=3).index)\n",
    "        topactors = list(self.ranking('actors', metric='votes', subfilter=isubfilter, limit=50).index)\n",
    "        \n",
    "        "
   ]
  }
 ],
 "metadata": {
  "kernelspec": {
   "display_name": "Python 3",
   "language": "python",
   "name": "python3"
  },
  "language_info": {
   "codemirror_mode": {
    "name": "ipython",
    "version": 3
   },
   "file_extension": ".py",
   "mimetype": "text/x-python",
   "name": "python",
   "nbconvert_exporter": "python",
   "pygments_lexer": "ipython3",
   "version": "3.7.6"
  }
 },
 "nbformat": 4,
 "nbformat_minor": 4
}
