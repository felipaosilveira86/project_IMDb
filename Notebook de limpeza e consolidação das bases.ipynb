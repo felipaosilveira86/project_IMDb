{
 "cells": [
  {
   "cell_type": "code",
   "execution_count": 2,
   "metadata": {},
   "outputs": [
    {
     "name": "stdout",
     "output_type": "stream",
     "text": [
      "O número de linhas inicial é: 81273\n",
      "O número de linhas retiradas é: 14770\n",
      "O número de linhas restante é: 66503\n"
     ]
    },
    {
     "data": {
      "text/plain": [
       "(66503, 46)"
      ]
     },
     "execution_count": 2,
     "metadata": {},
     "output_type": "execute_result"
    }
   ],
   "source": [
    "import pandas as pd\n",
    "\n",
    "# ## IMDB Movies\n",
    "database = pd.read_csv(\"IMDb_movies.csv\", sep = \",\")\n",
    "database[\"date_published\"] = pd.to_datetime(database[\"date_published\"])\n",
    "database.head(15)\n",
    "\n",
    "\n",
    "# ### Limpando a base de dados\n",
    "# - reviews_from_users \n",
    "# - reviews_from_critics\n",
    "# Queremos excluir da base de dados a parte que não possui nota dos críticos nem dos expectadores e algumas colunas que não farão parte do escopo do projeto.\n",
    "\n",
    "df1 = database[(database[\"reviews_from_critics\"].notnull()) & (database[\"reviews_from_users\"].notnull())]\n",
    "df1.reset_index(drop = True, inplace = True)  ## resetando o indice das linhas\n",
    "df1.drop(columns = [\"usa_gross_income\", \"duration\", \"writer\", \"metascore\", \"reviews_from_critics\", \"reviews_from_users\", \"votes\", \"avg_vote\"], axis = \"columns\", inplace = True) ## excluindo colunas\n",
    "df1\n",
    "\n",
    "database2 = database[(database[\"reviews_from_critics\"].isnull()) | (database[\"reviews_from_users\"].isnull())]\n",
    "A = database.shape[0]\n",
    "B = database2.shape[0]\n",
    "print(\"O número de linhas inicial é:\",  database.shape[0])\n",
    "print(\"O número de linhas retiradas é:\",  database2.shape[0])\n",
    "print(\"O número de linhas restante é:\",  A - B)\n",
    "\n",
    "df1.rename(columns={'date_published': 'release_date'}, inplace=True)\n",
    "df1.shape\n",
    "\n",
    "\n",
    "# ## IMDB Ratings\n",
    "\n",
    "df2 = pd.read_csv(\"IMDb_ratings.csv\", sep = \",\")\n",
    "df2.drop([\"total_votes\", \"votes_10\", \"votes_9\", \"votes_8\",\n",
    "                \"votes_7\", \"votes_6\",\"votes_5\", \"votes_4\", \"votes_3\",\n",
    "                \"votes_2\", \"votes_1\", \"us_voters_votes\", \"us_voters_rating\", \"median_vote\",\n",
    "                \"non_us_voters_rating\", \"non_us_voters_votes\", \"top1000_voters_rating\", \"top1000_voters_votes\", \"weighted_average_vote\"], axis = \"columns\", inplace = True)\n",
    "df2['votes'] = df2['allgenders_0age_votes'] + df2['allgenders_18age_votes'] + df2['allgenders_30age_votes'] + df2['allgenders_45age_votes']\n",
    "df2 ['allgenders_allages_votes'] = df2['votes']\n",
    "df2.rename(columns={'mean_vote':'avg_vote', 'date_published': 'release_date'}, inplace=True)\n",
    "df2['allgenders_allages_avg_vote'] = df2['avg_vote']\n",
    "# total_votes já está no IMDb Movies\n",
    "\n",
    "\n",
    "# ### Juntando as duas base de dados com merge\n",
    "left = df1\n",
    "right = df2\n",
    "df = left.merge(right, on='imdb_title_id')\n",
    "df.head(15)\n",
    "df.shape"
   ]
  },
  {
   "cell_type": "code",
   "execution_count": 3,
   "metadata": {},
   "outputs": [
    {
     "name": "stdout",
     "output_type": "stream",
     "text": [
      "Tamanho dos dados: (5244, 47)\n"
     ]
    }
   ],
   "source": [
    "# ### Tirando as linhas com NaN \n",
    "df.dropna(inplace=True)\n",
    "\n",
    "\n",
    "### Acrescentando os dados da Netflix\n",
    "netflix_only = pd.read_csv('netflix_titles.csv')\n",
    "netflix_only['on_netflix'] = True\n",
    "netflix_only = netflix_only[netflix_only['type'] == 'Movie'][['title', 'on_netflix']]\n",
    "netflix = df.merge(netflix_only, on='title', how='left')\n",
    "netflix['on_netflix'].fillna(False, inplace=True)\n",
    "print(\"Tamanho dos dados:\", netflix.shape)\n",
    "\n",
    "# Criando a planilha de atores\n",
    "\n",
    "cast = netflix.copy().actors.str.split(',', expand=True).iloc[:,0:3]\n",
    "c0 = cast[0].str.strip()\n",
    "c1 = cast[1].str.strip()\n",
    "c2 = cast[2].str.strip()\n",
    "cast = pd.concat([c0, c1, c2], axis=1)\n",
    "cast.columns = ['main_actor', 'supporting_actor_1', 'supporting_actor_2']\n",
    "cast_data = pd.concat([netflix, cast], axis=1).drop(columns=['imdb_title_id', 'title', 'original_title', 'year', 'release_date',\n",
    "       'genre', 'country', 'language', 'director', 'production_company',\n",
    "       'actors', 'description', 'budget', 'worlwide_gross_income', 'avg_vote', 'on_netflix'])\n",
    "cast_data.to_csv('base_atores.csv', sep=';', index = False)\n",
    "\n",
    "# Exportando pro Excel\n",
    "\n",
    "netflix.to_csv(\"base_consolidada.csv\", sep = \";\", index = False) ## não salva o indice"
   ]
  },
  {
   "cell_type": "code",
   "execution_count": null,
   "metadata": {},
   "outputs": [],
   "source": []
  }
 ],
 "metadata": {
  "kernelspec": {
   "display_name": "Python 3",
   "language": "python",
   "name": "python3"
  },
  "language_info": {
   "codemirror_mode": {
    "name": "ipython",
    "version": 3
   },
   "file_extension": ".py",
   "mimetype": "text/x-python",
   "name": "python",
   "nbconvert_exporter": "python",
   "pygments_lexer": "ipython3",
   "version": "3.7.6"
  }
 },
 "nbformat": 4,
 "nbformat_minor": 4
}
